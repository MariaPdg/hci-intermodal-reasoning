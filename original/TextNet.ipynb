{
 "cells": [
  {
   "cell_type": "code",
   "execution_count": 5,
   "metadata": {},
   "outputs": [],
   "source": [
    "import os\n",
    "import sys\n",
    "import random\n",
    "import torch\n",
    "import torch.nn as nn\n",
    "import torch.nn.functional as F\n",
    "from torchvision import models\n",
    "import gensim\n",
    "import types\n"
   ]
  },
  {
   "cell_type": "code",
   "execution_count": 6,
   "metadata": {},
   "outputs": [],
   "source": [
    "class Text_Net(nn.Module):\n",
    "\n",
    "    def __init__(self):\n",
    "        super(Text_Net, self).__init__()\n",
    "        self.conv1 = nn.Conv1d(in_channels=8, out_channels=52, kernel_size=3)\n",
    "        self.conv2 = nn.Conv1d(in_channels=52, out_channels=52, kernel_size=3)\n",
    "        self.conv3 = nn.Conv1d(in_channels=52, out_channels=52, kernel_size=3)\n",
    "        self.fc1 = nn.Linear(in_features=52*73, out_features=9216)\n",
    "\n",
    "    def forward(self, inputs):\n",
    "        out = F.relu(self.conv1(out))\n",
    "        out = F.max_pool1d(F.relu(self.conv2(out)), kernel_size=2)\n",
    "        out = F.max_pool1d(F.relu(self.conv3(out)), kernel_size=2)\n",
    "        out = self.fc1(out.view(-1, 52*73))\n",
    "        return out"
   ]
  },
  {
   "cell_type": "code",
   "execution_count": null,
   "metadata": {
    "jupyter": {
     "source_hidden": true
    }
   },
   "outputs": [],
   "source": [
    "# import torch.nn as nn\n",
    "# import torch.nn.functional as F\n",
    "# class Text_Net(nn.Module):\n",
    "#     def __init__(self, vocab_size, embed_dim, num_class):\n",
    "#         super().__init__()\n",
    "#         self.embedding = nn.EmbeddingBag(vocab_size, embed_dim, sparse=True)\n",
    "#         self.fc = nn.Linear(embed_dim, num_class)\n",
    "#         self.init_weights()\n",
    "\n",
    "#     def init_weights(self):\n",
    "#         initrange = 0.5\n",
    "#         self.embedding.weight.data.uniform_(-initrange, initrange)\n",
    "#         self.fc.weight.data.uniform_(-initrange, initrange)\n",
    "#         self.fc.bias.data.zero_()\n",
    "\n",
    "#     def forward(self, text, offsets):\n",
    "#         embedded = self.embedding(text, offsets)\n",
    "#         return self.fc(embedded)"
   ]
  },
  {
   "cell_type": "code",
   "execution_count": 8,
   "metadata": {},
   "outputs": [],
   "source": [
    "# Load Google's pre-trained Word2Vec model.\n",
    "#model = gensim.models.KeyedVectors.load_word2vec_format('words/GoogleNews-vectors-negative300.bin', binary=True)  "
   ]
  },
  {
   "cell_type": "code",
   "execution_count": 9,
   "metadata": {},
   "outputs": [],
   "source": [
    "class Text_Net2(nn.Module):\n",
    "    def __init__(self, dense, channels, kernels, paddings, keep_probab,\n",
    "                 vocab_size, embedding_length, weights):\n",
    "        super(CNN, self).__init__()\n",
    "\n",
    "        self.dense = dense\n",
    "        self.channels = channels\n",
    "        self.kernels = kernels\n",
    "        self.paddings = paddings\n",
    "        self.vocab_size = vocab_size\n",
    "        self.embedding_length = embedding_length\n",
    "\n",
    "        self.word_embeddings = self.__create_embedding(weights)\n",
    "        self.conv1 = self.__create_convolution(0)\n",
    "        self.conv2 = self.__create_convolution(1)\n",
    "        self.conv3 = self.__create_convolution(2)\n",
    "        self.dropout = nn.Dropout(keep_probab)\n",
    "        self.result = self.__create_dense()\n",
    "\n",
    "    def __create_dense(self):\n",
    "        return nn.Sequential(\n",
    "            nn.Linear(self.dense[0], self.dense[1]),\n",
    "            nn.ReLU(),\n",
    "\n",
    "            nn.Linear(self.dense[1], self.dense[2]),\n",
    "            nn.ReLU(),\n",
    "\n",
    "            nn.Linear(self.dense[2], self.dense[3]),\n",
    "            nn.ReLU(),\n",
    "\n",
    "            nn.Linear(self.dense[3], self.dense[4]),\n",
    "            nn.ReLU(),\n",
    "\n",
    "            nn.Softmax()\n",
    "        )\n",
    "\n",
    "    def __create_embedding(self, weights):\n",
    "        word_embeddings = nn.Embedding(self.vocab_size, self.embedding_length)\n",
    "        word_embeddings.weight = nn.Parameter(weights, requires_grad=False)\n",
    "        return word_embeddings\n",
    "\n",
    "    def __create_convolution(self, step):\n",
    "        return nn.Sequential(\n",
    "            nn.Conv2d(\n",
    "                in_channels=self.channels[step],\n",
    "                out_channels=self.channels[step+1],\n",
    "                kernel_size=(self.kernels[step], self.embedding_length if step == 0 else 1),\n",
    "                padding=(self.paddings[step], 0),\n",
    "            ),\n",
    "            nn.ReLU(),\n",
    "            nn.MaxPool2d(kernel_size=(self.kernels[step], 1), padding=(1, 0), stride=(1, 1)),\n",
    "        )\n",
    "\n",
    "    def forward(self, x):\n",
    "\n",
    "        x = self.word_embeddings(x)\n",
    "        max_out1 = self.conv1(x)\n",
    "        max_out2 = self.conv2(max_out1)\n",
    "        max_out3 = self.conv3(max_out2)\n",
    "\n",
    "        # all_out = torch.cat((max_out1, max_out2, max_out3), 0)\n",
    "        dropout = self.dropout(max_out3)\n",
    "        logits = self.result(dropout.flatten())\n",
    "\n",
    "        return logits"
   ]
  },
  {
   "cell_type": "code",
   "execution_count": null,
   "metadata": {},
   "outputs": [],
   "source": []
  }
 ],
 "metadata": {
  "kernelspec": {
   "display_name": "Python2 (py2env)",
   "language": "python",
   "name": "hci"
  },
  "language_info": {
   "codemirror_mode": {
    "name": "ipython",
    "version": 3
   },
   "file_extension": ".py",
   "mimetype": "text/x-python",
   "name": "python",
   "nbconvert_exporter": "python",
   "pygments_lexer": "ipython3",
   "version": "3.6.8"
  }
 },
 "nbformat": 4,
 "nbformat_minor": 4
}
