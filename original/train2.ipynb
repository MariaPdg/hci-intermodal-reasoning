{
 "cells": [
  {
   "cell_type": "code",
   "execution_count": 1,
   "metadata": {},
   "outputs": [
    {
     "name": "stdout",
     "output_type": "stream",
     "text": [
      "Torch Version:  1.3.0+cu92\n"
     ]
    }
   ],
   "source": [
    "import torchvision.transforms as transforms\n",
    "import torchvision.datasets as datasets\n",
    "import types\n",
    "import torch\n",
    "import utils\n",
    "import text_network\n",
    "import TeacherNet\n",
    "import ImageNet\n",
    "import torch.optim as optim\n",
    "import time\n",
    "import sys\n",
    "from torch.autograd import Variable\n",
    "\n",
    "\n",
    "from torch.utils.data import TensorDataset, DataLoader, RandomSampler, SequentialSampler\n"
   ]
  },
  {
   "cell_type": "code",
   "execution_count": 2,
   "metadata": {},
   "outputs": [
    {
     "name": "stdout",
     "output_type": "stream",
     "text": [
      "Loaded train data torch.Size([10000, 3, 224, 224]) torch.Size([10000, 52]) torch.Size([10000, 52])\n",
      "Loaded val data torch.Size([5000, 3, 224, 224]) torch.Size([5000, 43]) torch.Size([5000, 43])\n"
     ]
    }
   ],
   "source": [
    "train_img = torch.load(\"../hci-intermodal-reasoning/cached_data/train_img\")\n",
    "train_cap = torch.load(\"../hci-intermodal-reasoning/cached_data/train_cap\")\n",
    "train_mask = torch.load(\"../hci-intermodal-reasoning/cached_data/train_mask\")\n",
    "\n",
    "val_img = torch.load(\"../hci-intermodal-reasoning/cached_data/val_img\")\n",
    "val_cap = torch.load(\"../hci-intermodal-reasoning/cached_data/val_cap\")\n",
    "val_mask = torch.load(\"../hci-intermodal-reasoning/cached_data/val_mask\")\n",
    "\n",
    "print(\"Loaded train data\", train_img.size(), train_cap.size(), train_mask.size())\n",
    "print(\"Loaded val data\", val_img.size(), val_cap.size(), val_mask.size())\n",
    "\n"
   ]
  },
  {
   "cell_type": "code",
   "execution_count": 3,
   "metadata": {},
   "outputs": [],
   "source": [
    "DELTA = 0.1\n",
    "BATCH_SIZE = 8\n",
    "NB_EPOCHS = 10\n",
    "LOGGER = utils.Logger()\n",
    "\n",
    "# VOCAB_SIZE = len(train_mask)\n",
    "# EMBED_DIM = train_cap.size()[1]\n",
    "# NUN_CLASS = len(train_cap)\n",
    "# model = TextNet.Text_Net(VOCAB_SIZE, EMBED_DIM, NUN_CLASS)\n"
   ]
  },
  {
   "cell_type": "code",
   "execution_count": 4,
   "metadata": {},
   "outputs": [],
   "source": [
    "train_data = TensorDataset(train_img, train_cap, train_mask)\n",
    "train_sampler = RandomSampler(train_data)\n",
    "train_dataloader = DataLoader(train_data, sampler=train_sampler, batch_size=BATCH_SIZE, num_workers=2)\n",
    "valid_data = TensorDataset(val_img, val_cap, val_mask)\n",
    "valid_sampler = SequentialSampler(valid_data)\n",
    "valid_dataloader = DataLoader(valid_data, sampler=valid_sampler, batch_size=BATCH_SIZE * 2, num_workers=2)\n",
    "\n",
    "device = torch.device(\"cuda:1\")\n",
    "text_net = text_network.TextNet()\n",
    "#text_net.to(device)\n",
    "#text_net = TextNet.Text_Net(VOCAB_SIZE, EMBED_DIM, NUN_CLASS)\n",
    "\n",
    "\n",
    "model_name = \"alexnet\"\n",
    "feature_extract = True\n",
    "vision_net = ImageNet.Image_Net()\n",
    "vision_net = vision_net.initialize_model(model_name, feature_extract, use_pretrained=True)\n",
    "vision_net.to(device)\n",
    "\n",
    "\n",
    "teacher_net = TeacherNet.Teacher_Net()\n",
    "ranking_loss = TeacherNet.RankingLossFunc(DELTA)\n",
    "teacher_net.to(device)\n",
    "ranking_loss.to(device)\n",
    "\n",
    "embeds = Variable(torch.Tensor((BATCH_SIZE, 16, 300)), requires_grad=True)"
   ]
  },
  {
   "cell_type": "code",
   "execution_count": 5,
   "metadata": {},
   "outputs": [
    {
     "name": "stdout",
     "output_type": "stream",
     "text": [
      "Start to train\n",
      "Epoch 0: train loss = 55999.996223\n",
      "          train acc = 0.133700 (1337/10000)\n",
      "Epoch 1: train loss = 55999.970718\n",
      "          train acc = 0.128200 (1282/10000)\n",
      "Epoch 2: train loss = 55999.965599\n",
      "          train acc = 0.132800 (1328/10000)\n",
      "Epoch 3: train loss = 55999.947254\n",
      "          train acc = 0.130300 (1303/10000)\n",
      "Epoch 4: train loss = 55999.971916\n",
      "          train acc = 0.128300 (1283/10000)\n",
      "Epoch 5: train loss = 55999.986710\n",
      "          train acc = 0.127600 (1276/10000)\n",
      "Epoch 6: train loss = 55999.982712\n",
      "          train acc = 0.132200 (1322/10000)\n",
      "Epoch 7: train loss = 55999.986256\n",
      "          train acc = 0.129500 (1295/10000)\n",
      "Epoch 8: train loss = 55999.974442\n",
      "          train acc = 0.131700 (1317/10000)\n",
      "Epoch 9: train loss = 55999.979477\n",
      "          train acc = 0.129600 (1296/10000)\n",
      "Training done in 29.363260 mins\n"
     ]
    }
   ],
   "source": [
    "# optimizer\n",
    "params_to_update_share = []\n",
    "params_to_update_img = vision_net.parameters()\n",
    "params_to_update_txt = []\n",
    "\n",
    "\n",
    "params_to_update = list(params_to_update_share) + list(params_to_update_img) + list(params_to_update_txt)\n",
    "optimizer = optim.Adam(params_to_update, lr=0.0001)\n",
    "\n",
    "print(\"Start to train\")\n",
    "start_time = time.time()\n",
    "for epoch in range(NB_EPOCHS):\n",
    "    running_loss = 0.0\n",
    "    running_corrects = 0.0\n",
    "    total_samples = 0\n",
    "\n",
    "    for step, batch in enumerate(train_dataloader):\n",
    "        img, cap, mask = tuple(t.to(device) for t in batch)\n",
    "        \n",
    "        \n",
    "        with torch.set_grad_enabled(False):\n",
    "            img_feature = vision_net.forward(img)\n",
    "            txt_feature = text_net.forward(cap,mask)\n",
    "\n",
    "        with torch.set_grad_enabled(True):\n",
    "            img_vec = teacher_net.forward(img_feature)\n",
    "            txt_vec = teacher_net.forward(txt_feature)\n",
    "    \n",
    "            loss = ranking_loss(img_vec, txt_vec)\n",
    "            preds = teacher_net.predict(img_vec, txt_vec)\n",
    "            optimizer.step()\n",
    "            optimizer.zero_grad()\n",
    "    \n",
    "        running_loss += loss.item() * BATCH_SIZE\n",
    "        running_corrects += sum([(i == preds[i]) for i in range(len(preds))])\n",
    "        total_samples += len(preds)\n",
    "        #print(running_loss)\n",
    "        \n",
    "    print(\"Epoch %d: train loss = %f\" % (epoch, running_loss))\n",
    "    print((\"          train acc = %f (%d/%d)\" % (float(running_corrects/total_samples), running_corrects, total_samples)))\n",
    "\n",
    "print(\"Training done in %f mins\" % ((time.time()-start_time)/60))"
   ]
  },
  {
   "cell_type": "code",
   "execution_count": null,
   "metadata": {},
   "outputs": [],
   "source": []
  },
  {
   "cell_type": "code",
   "execution_count": null,
   "metadata": {},
   "outputs": [],
   "source": []
  }
 ],
 "metadata": {
  "kernelspec": {
   "display_name": "Python2 (py2env)",
   "language": "python",
   "name": "hci"
  },
  "language_info": {
   "codemirror_mode": {
    "name": "ipython",
    "version": 3
   },
   "file_extension": ".py",
   "mimetype": "text/x-python",
   "name": "python",
   "nbconvert_exporter": "python",
   "pygments_lexer": "ipython3",
   "version": "3.6.8"
  }
 },
 "nbformat": 4,
 "nbformat_minor": 4
}
