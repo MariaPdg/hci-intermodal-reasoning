{
 "cells": [
  {
   "cell_type": "code",
   "execution_count": 1,
   "metadata": {},
   "outputs": [],
   "source": [
    "import torch\n",
    "import torch.nn as nn\n",
    "import torch.nn.functional as F\n",
    "import types\n",
    "import torchvision.transforms as transforms\n",
    "import torchvision.datasets as datasets\n",
    "from torchvision import models\n"
   ]
  },
  {
   "cell_type": "code",
   "execution_count": 2,
   "metadata": {},
   "outputs": [
    {
     "name": "stdout",
     "output_type": "stream",
     "text": [
      "Torch Version:  1.2.0\n"
     ]
    }
   ],
   "source": [
    "print(\"Torch Version: \", torch.__version__)\n"
   ]
  },
  {
   "cell_type": "code",
   "execution_count": 3,
   "metadata": {},
   "outputs": [],
   "source": [
    "class Image_Net():\n",
    "\n",
    "    def __init__(self):\n",
    "        super(Image_Net, self).__init__()\n",
    "\n",
    "    def set_parameter_requires_grad(self, model, feature_extracting):\n",
    "        if feature_extracting:\n",
    "            for param in model.parameters():\n",
    "                param.requires_grad = False\n",
    "\n",
    "    def initialize_model(self, model_name, feature_extract, use_pretrained=True, dev=\"cpu\"):\n",
    "        # Initialize these variables which will be set in this if statement. Each of these\n",
    "        #   variables is model specific.\n",
    "        model_ft = None\n",
    "        if model_name == \"alexnet\":\n",
    "            \"\"\" Alexnet\n",
    "            \"\"\"\n",
    "            model_ft = models.alexnet(pretrained=use_pretrained)\n",
    "            self.set_parameter_requires_grad(model_ft, feature_extract)\n",
    "            num_ftrs = model_ft.classifier[6].in_features\n",
    "            model_ft.classifier[6] = nn.Linear(num_ftrs, 256 * 6 * 6)  # reinitialize the 6th layer\n",
    "            model_ft.to(dev)\n",
    "\n",
    "\n",
    "        else:\n",
    "            print(\"Invalid model name, exiting...\")\n",
    "            exit()\n",
    "\n",
    "        return model_ft"
   ]
  },
  {
   "cell_type": "code",
   "execution_count": null,
   "metadata": {},
   "outputs": [],
   "source": []
  },
  {
   "cell_type": "code",
   "execution_count": null,
   "metadata": {},
   "outputs": [],
   "source": []
  }
 ],
 "metadata": {
  "kernelspec": {
   "display_name": "Python2 (py2env)",
   "language": "python",
   "name": "hci"
  },
  "language_info": {
   "codemirror_mode": {
    "name": "ipython",
    "version": 3
   },
   "file_extension": ".py",
   "mimetype": "text/x-python",
   "name": "python",
   "nbconvert_exporter": "python",
   "pygments_lexer": "ipython3",
   "version": "3.6.8"
  }
 },
 "nbformat": 4,
 "nbformat_minor": 4
}
