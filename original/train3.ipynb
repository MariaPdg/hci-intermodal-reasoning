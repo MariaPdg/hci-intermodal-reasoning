{
 "cells": [
  {
   "cell_type": "code",
   "execution_count": 1,
   "metadata": {},
   "outputs": [
    {
     "name": "stdout",
     "output_type": "stream",
     "text": [
      "Torch Version:  1.3.0+cu92\n"
     ]
    }
   ],
   "source": [
    "import os\n",
    "import torchvision.transforms as transforms\n",
    "import torchvision.datasets as datasets\n",
    "import types\n",
    "import torch\n",
    "import utils\n",
    "import TextNet\n",
    "import TeacherNet\n",
    "import ImageNet\n",
    "import torch.optim as optim\n",
    "import time\n",
    "import sys\n",
    "import numpy as np\n",
    "from torch.autograd import Variable\n",
    "from embeddings import build_vocab, build_embed, build_train, replace_values\n",
    "from transformers import DistilBertTokenizer\n",
    "import torchtext\n",
    "from torchtext.vocab import GloVe\n",
    "\n",
    "\n",
    "from torch.utils.data import TensorDataset, DataLoader, RandomSampler, SequentialSampler\n"
   ]
  },
  {
   "cell_type": "code",
   "execution_count": 2,
   "metadata": {},
   "outputs": [
    {
     "name": "stdout",
     "output_type": "stream",
     "text": [
      "Loaded train data torch.Size([10000, 3, 224, 224]) torch.Size([10000, 52]) torch.Size([10000, 52])\n",
      "Loaded val data torch.Size([5000, 3, 224, 224]) torch.Size([5000, 43]) torch.Size([5000, 43])\n"
     ]
    }
   ],
   "source": [
    "train_img = torch.load(\"../cached_data/train_img\")\n",
    "train_cap = torch.load(\"../cached_data/train_cap\")\n",
    "train_mask = torch.load(\"../cached_data/train_mask\")\n",
    "\n",
    "val_img = torch.load(\"../cached_data/val_img\")\n",
    "val_cap = torch.load(\"../cached_data/val_cap\")\n",
    "val_mask = torch.load(\"../cached_data/val_mask\")\n",
    "\n",
    "print(\"Loaded train data\", train_img.size(), train_cap.size(), train_mask.size())\n",
    "print(\"Loaded val data\", val_img.size(), val_cap.size(), val_mask.size())"
   ]
  },
  {
   "cell_type": "code",
   "execution_count": 3,
   "metadata": {},
   "outputs": [],
   "source": [
    "DELTA = 0.1\n",
    "BATCH_SIZE = 8\n",
    "NB_EPOCHS = 10\n",
    "LOGGER = utils.Logger()\n",
    "EMB_CACHE = os.path.expanduser(\"../../words/glove/\")\n",
    "\n",
    "# VOCAB_SIZE = len(train_mask)\n",
    "# EMBED_DIM = train_cap.size()[1]\n",
    "# NUN_CLASS = len(train_cap)\n",
    "# model = TextNet.Text_Net(VOCAB_SIZE, EMBED_DIM, NUN_CLASS)\n"
   ]
  },
  {
   "cell_type": "code",
   "execution_count": 4,
   "metadata": {},
   "outputs": [],
   "source": [
    "# train_data = TensorDataset(train_img, train_cap, train_mask)\n",
    "# train_sampler = RandomSampler(train_data)\n",
    "# train_dataloader = DataLoader(train_data, sampler=train_sampler, batch_size=BATCH_SIZE, num_workers=2)\n",
    "\n",
    "# valid_data = TensorDataset(val_img, val_cap, val_mask)\n",
    "# valid_sampler = SequentialSampler(valid_data)\n",
    "# valid_dataloader = DataLoader(valid_data, sampler=valid_sampler, batch_size=BATCH_SIZE * 2, num_workers=2)\n"
   ]
  },
  {
   "cell_type": "code",
   "execution_count": 5,
   "metadata": {},
   "outputs": [
    {
     "name": "stdout",
     "output_type": "stream",
     "text": [
      "closeup\n",
      "(5838, 300)\n"
     ]
    },
    {
     "data": {
      "text/plain": [
       "Text_Net(\n",
       "  (embedding): Embedding(5838, 300)\n",
       "  (conv1): Conv1d(52, 300, kernel_size=(3,), stride=(1,))\n",
       "  (conv2): Conv1d(300, 300, kernel_size=(3,), stride=(1,))\n",
       "  (conv3): Conv1d(300, 300, kernel_size=(3,), stride=(1,))\n",
       "  (fc1): Linear(in_features=21900, out_features=9216, bias=True)\n",
       ")"
      ]
     },
     "execution_count": 5,
     "metadata": {},
     "output_type": "execute_result"
    }
   ],
   "source": [
    "vocab = build_vocab(train_cap) # all unique words\n",
    "print(vocab[0])\n",
    "\n",
    "\n",
    "embedding_matrix = build_embed(vocab) # embeddings gloves\n",
    "print(np.shape(embedding_matrix))\n",
    "\n",
    "device = torch.device(\"cuda:1\")\n",
    "text_net = TextNet.Text_Net(embedding_matrix )\n",
    "text_net.to(device)\n",
    "#text_net = TextNet.Text_Net(VOCAB_SIZE, EMBED_DIM, NUN_CLASS)"
   ]
  },
  {
   "cell_type": "code",
   "execution_count": 6,
   "metadata": {},
   "outputs": [],
   "source": [
    "# print(train_cap.size())\n",
    "# print(len(train_cap[0]))\n",
    "# print(train_cap[0])\n",
    "# tokenizer = DistilBertTokenizer.from_pretrained(\"distilbert-base-uncased\")\n",
    "# words = tokenizer.decode(train_cap[0].numpy()).split(' ')\n",
    "# print(words)\n",
    "# print(words[0] in vocab)\n",
    "# print(len(words))"
   ]
  },
  {
   "cell_type": "code",
   "execution_count": 7,
   "metadata": {},
   "outputs": [],
   "source": [
    "# train = replace_values(train_cap, vocab)\n",
    "# torch.save(train, \"../cached_data/cap_replace\")\n",
    "\n",
    "\n",
    "train_cap = torch.load(\"../cached_data/cap_replace\")\n",
    "train_cap[0]\n",
    "tokenizer = DistilBertTokenizer.from_pretrained(\"distilbert-base-uncased\")\n",
    "words = tokenizer.decode(train_cap[0].numpy()).split(' ')"
   ]
  },
  {
   "cell_type": "code",
   "execution_count": 8,
   "metadata": {},
   "outputs": [
    {
     "name": "stdout",
     "output_type": "stream",
     "text": [
      "tensor([5834,    0,    1,    2,    1,    3,    4,    5,    6,    7,    8, 5836,\n",
      "        5835, 5835, 5835, 5835, 5835, 5835, 5835, 5835, 5835, 5835, 5835, 5835,\n",
      "        5835, 5835, 5835, 5835, 5835, 5835, 5835, 5835, 5835, 5835, 5835, 5835,\n",
      "        5835, 5835, 5835, 5835, 5835, 5835, 5835, 5835, 5835, 5835, 5835, 5835,\n",
      "        5835, 5835, 5835, 5835])\n",
      "52\n"
     ]
    }
   ],
   "source": [
    "print(train_cap[0])\n",
    "print(len(train_cap[10]))"
   ]
  },
  {
   "cell_type": "code",
   "execution_count": 9,
   "metadata": {},
   "outputs": [],
   "source": [
    "# print(train_cap.size())\n",
    "# print(torch.max(train_cap,0))"
   ]
  },
  {
   "cell_type": "code",
   "execution_count": 10,
   "metadata": {},
   "outputs": [],
   "source": [
    "train_data = TensorDataset(train_img, train_cap, train_mask)\n",
    "train_sampler = RandomSampler(train_data)\n",
    "train_dataloader = DataLoader(train_data, sampler=train_sampler, batch_size=BATCH_SIZE, num_workers=2)"
   ]
  },
  {
   "cell_type": "code",
   "execution_count": 11,
   "metadata": {},
   "outputs": [],
   "source": [
    "# TEXT = torchtext.data.Field(sequential=True, lower=True, include_lengths=True, batch_first=True, tokenize='spacy')\n",
    "# TEXT.build_vocab(train, vectors=GloVe(name='6B', dim=300, cache=EMB_CACHE))\n",
    "# train = TEXT.vocab\n",
    "# print(train.vectors.size())\n",
    "# print(len(train))"
   ]
  },
  {
   "cell_type": "code",
   "execution_count": 12,
   "metadata": {},
   "outputs": [
    {
     "name": "stdout",
     "output_type": "stream",
     "text": [
      "4096\n"
     ]
    },
    {
     "data": {
      "text/plain": [
       "RankingLossFunc()"
      ]
     },
     "execution_count": 12,
     "metadata": {},
     "output_type": "execute_result"
    }
   ],
   "source": [
    "model_name = \"alexnet\"\n",
    "feature_extract = True\n",
    "vision_net = ImageNet.Image_Net()\n",
    "vision_net = vision_net.initialize_model(model_name, feature_extract, use_pretrained=True)\n",
    "vision_net.to(device)\n",
    "\n",
    "\n",
    "teacher_net = TeacherNet.Teacher_Net()\n",
    "ranking_loss = TeacherNet.RankingLossFunc(DELTA)\n",
    "teacher_net.to(device)\n",
    "ranking_loss.to(device)\n",
    "\n",
    "# print(text_net)\n",
    "# print(vision_net)\n",
    "\n",
    "# embeds = Variable(torch.Tensor((BATCH_SIZE, 16, 300)), requires_grad=True)"
   ]
  },
  {
   "cell_type": "code",
   "execution_count": 13,
   "metadata": {},
   "outputs": [
    {
     "name": "stdout",
     "output_type": "stream",
     "text": [
      "Start to train\n"
     ]
    },
    {
     "name": "stderr",
     "output_type": "stream",
     "text": [
      "/home/mariapdg/hci/lib/python3.6/site-packages/ipykernel_launcher.py:20: UserWarning: To copy construct from a tensor, it is recommended to use sourceTensor.clone().detach() or sourceTensor.clone().detach().requires_grad_(True), rather than torch.tensor(sourceTensor).\n"
     ]
    },
    {
     "name": "stdout",
     "output_type": "stream",
     "text": [
      "Epoch 0: train loss = 56000.014778\n",
      "          train acc = 0.121400 (1214/10000)\n",
      "Epoch 1: train loss = 56000.017849\n",
      "          train acc = 0.127500 (1275/10000)\n",
      "Epoch 2: train loss = 56000.015331\n",
      "          train acc = 0.129900 (1299/10000)\n",
      "Epoch 3: train loss = 56000.017864\n",
      "          train acc = 0.124400 (1244/10000)\n",
      "Epoch 4: train loss = 56000.017567\n",
      "          train acc = 0.127700 (1277/10000)\n",
      "Epoch 5: train loss = 56000.013710\n",
      "          train acc = 0.121400 (1214/10000)\n",
      "Epoch 6: train loss = 56000.012985\n",
      "          train acc = 0.130400 (1304/10000)\n",
      "Epoch 7: train loss = 56000.017784\n",
      "          train acc = 0.126900 (1269/10000)\n",
      "Epoch 8: train loss = 56000.014309\n",
      "          train acc = 0.124900 (1249/10000)\n",
      "Epoch 9: train loss = 56000.018353\n",
      "          train acc = 0.124400 (1244/10000)\n",
      "Training done in 21.051886 mins\n"
     ]
    }
   ],
   "source": [
    "# optimizer\n",
    "params_to_update_share = []\n",
    "params_to_update_img = vision_net.parameters()\n",
    "params_to_update_txt = []\n",
    "\n",
    "\n",
    "params_to_update = list(params_to_update_share) + list(params_to_update_img) + list(params_to_update_txt)\n",
    "optimizer = optim.Adam(params_to_update, lr=0.0001)\n",
    "\n",
    "\n",
    "print(\"Start to train\")\n",
    "start_time = time.time()\n",
    "for epoch in range(NB_EPOCHS):\n",
    "    running_loss = 0.0\n",
    "    running_corrects = 0.0\n",
    "    total_samples = 0\n",
    "\n",
    "    for step, batch in enumerate(train_dataloader):\n",
    "        img, cap, mask = tuple(t.to(device, dtype=torch.float) for t in batch)\n",
    "        cap = torch.tensor(cap).to(device,torch.int64)\n",
    "#         print(img.size())\n",
    "#         print(cap.size())\n",
    "        \n",
    "        with torch.set_grad_enabled(False):\n",
    "            img_feature = vision_net.forward(img)\n",
    "#             print(img_feature.size()) \n",
    "#             cap = np.expand_dims(cap.cpu(), axis=2)\n",
    "#             cap=torch.tensor(cap)\n",
    "#             print(cap.size(), cap.type)\n",
    "            txt_feature = text_net.forward(cap)\n",
    "            \n",
    "        with torch.set_grad_enabled(True):\n",
    "            img_vec = teacher_net.forward(img_feature)\n",
    "            txt_vec = teacher_net.forward(txt_feature)\n",
    "    \n",
    "            loss = ranking_loss(img_vec, txt_vec)\n",
    "            preds = teacher_net.predict(img_vec, txt_vec)\n",
    "            optimizer.step()\n",
    "            optimizer.zero_grad()\n",
    "    \n",
    "        running_loss += loss.item() * BATCH_SIZE\n",
    "        running_corrects += sum([(i == preds[i]) for i in range(len(preds))])\n",
    "        total_samples += len(preds)\n",
    "        #print(running_loss)\n",
    "        \n",
    "    print(\"Epoch %d: train loss = %f\" % (epoch, running_loss))\n",
    "    print((\"          train acc = %f (%d/%d)\" % (float(running_corrects/total_samples), running_corrects, total_samples)))\n",
    "\n",
    "print(\"Training done in %f mins\" % ((time.time()-start_time)/60))"
   ]
  },
  {
   "cell_type": "code",
   "execution_count": 14,
   "metadata": {},
   "outputs": [
    {
     "name": "stdout",
     "output_type": "stream",
     "text": [
      "tensor([6, 0, 6, 1, 0, 0, 6, 1])\n"
     ]
    }
   ],
   "source": [
    "print(preds)"
   ]
  },
  {
   "cell_type": "code",
   "execution_count": null,
   "metadata": {},
   "outputs": [],
   "source": []
  },
  {
   "cell_type": "code",
   "execution_count": null,
   "metadata": {},
   "outputs": [],
   "source": []
  }
 ],
 "metadata": {
  "kernelspec": {
   "display_name": "Python2 (py2env)",
   "language": "python",
   "name": "hci"
  },
  "language_info": {
   "codemirror_mode": {
    "name": "ipython",
    "version": 3
   },
   "file_extension": ".py",
   "mimetype": "text/x-python",
   "name": "python",
   "nbconvert_exporter": "python",
   "pygments_lexer": "ipython3",
   "version": "3.6.8"
  }
 },
 "nbformat": 4,
 "nbformat_minor": 4
}
