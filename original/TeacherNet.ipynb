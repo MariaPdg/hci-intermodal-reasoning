{
 "cells": [
  {
   "cell_type": "code",
   "execution_count": 1,
   "metadata": {},
   "outputs": [],
   "source": [
    "import torch\n",
    "import torch.nn as nn\n",
    "import torch.nn.functional as F\n",
    "from torchvision import models\n"
   ]
  },
  {
   "cell_type": "code",
   "execution_count": 2,
   "metadata": {},
   "outputs": [],
   "source": [
    "class Teacher_Net(nn.Module):\n",
    "\n",
    "    def __init__(self):\n",
    "        super(Teacher_Net, self).__init__()\n",
    "        self.linear1 = nn.Linear(in_features=9216, out_features=4096)\n",
    "        self.linear2 = nn.Linear(in_features=4096, out_features=4096)\n",
    "        self.linear3 = nn.Linear(in_features=4096, out_features=1000)\n",
    "\n",
    "    def forward(self, inputs):\n",
    "        out = F.relu(self.linear1(inputs))\n",
    "        out = F.relu(self.linear2(out))\n",
    "        out = F.softmax(self.linear3(out), dim=1)\n",
    "        return out\n",
    "\n",
    "    def predict(self, x_reprets, y_reprets):\n",
    "        batch_size = x_reprets.shape[0]\n",
    "        embedding_loss = torch.ones(batch_size, batch_size)\n",
    "        for i in range(0, batch_size):\n",
    "            for j in range(0, batch_size):\n",
    "                embedding_loss[i][j] = 1 - Cos_similarity(x_reprets[i], y_reprets[j])\n",
    "\n",
    "        preds = torch.argmin(embedding_loss, dim=1)  # return the index of minimal of each row\n",
    "        return preds\n"
   ]
  },
  {
   "cell_type": "code",
   "execution_count": 3,
   "metadata": {},
   "outputs": [],
   "source": [
    "class RankingLossFunc(nn.Module):\n",
    "    def __init__(self, delta):\n",
    "        super(RankingLossFunc, self).__init__()\n",
    "        self.delta = delta\n",
    "\n",
    "    def forward(self, X, Y):\n",
    "        assert (X.shape[0] == Y.shape[0])\n",
    "        loss = 0\n",
    "        num_of_samples = X.shape[0]\n",
    "        \n",
    "        mask = torch.eye(num_of_samples)\n",
    "        for idx in range(0, num_of_samples):\n",
    "            negative_sample_ids = [j for j in range(0, num_of_samples) if mask[idx][j] < 1]\n",
    "            loss += sum([max(0, self.delta\n",
    "                             - Cos_similarity(X[idx], Y[idx])\n",
    "                             + Cos_similarity(X[idx], Y[j])) for j in negative_sample_ids])\n",
    "        return loss"
   ]
  },
  {
   "cell_type": "code",
   "execution_count": null,
   "metadata": {},
   "outputs": [],
   "source": []
  }
 ],
 "metadata": {
  "kernelspec": {
   "display_name": "Python 3",
   "language": "python",
   "name": "python3"
  },
  "language_info": {
   "codemirror_mode": {
    "name": "ipython",
    "version": 3
   },
   "file_extension": ".py",
   "mimetype": "text/x-python",
   "name": "python",
   "nbconvert_exporter": "python",
   "pygments_lexer": "ipython3",
   "version": "3.6.8"
  }
 },
 "nbformat": 4,
 "nbformat_minor": 4
}
