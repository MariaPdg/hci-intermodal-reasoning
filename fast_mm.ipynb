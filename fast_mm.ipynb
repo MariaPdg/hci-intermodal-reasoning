{
 "cells": [
  {
   "cell_type": "code",
   "execution_count": 2,
   "metadata": {},
   "outputs": [],
   "source": [
    "import torch\n",
    "\n"
   ]
  },
  {
   "cell_type": "code",
   "execution_count": 85,
   "metadata": {},
   "outputs": [],
   "source": [
    "def fast_mm(matrix_1, matrix_2, device =\"cuda:1\"):\n",
    "    \n",
    "    torch.set_printoptions(precision=15)\n",
    "    size_1 = matrix_1.size()[0]\n",
    "    size_2 = matrix_1.size()[1]\n",
    "\n",
    "    matrix_1.to(device)\n",
    "    matrix_2.to(device)\n",
    "    \n",
    "    if size_1 * size_2 <= 10000 * 100:  #good for 10000*100 matrices\n",
    "        return torch.matmul(matrix_1, matrix_2.T).reshape(size_1*size_1,1).to(device)\n",
    "    \n",
    "#     else: \n",
    "        \n",
    "#         print(\"Applying batches...\")\n",
    "        \n",
    "#         batch_size = size_1 // 100\n",
    "        \n",
    "#         res = torch.tensor([]).to(device)\n",
    "#         for i in range(matrix_1.size()[0] // batch_size):\n",
    "#             A = matrix_1[batch_size*i : batch_size *(i+1)].to(device)\n",
    "#             #print(A.size())\n",
    "#             for j in range (matrix_2.size()[0] // batch_size):\n",
    "#                 B = matrix_2[batch_size*j : batch_size *(j+1)].to(device)\n",
    "#                 #print(B.size())\n",
    "#                 #mult = torch.bmm(A.view(batch_size, 1, size_2), B.view(batch_size, size_2, 1)).to(device)\n",
    "#                 mult = torch.matmul(A.view(batch_size, size_2), B.view(batch_size, size_2).T).reshape(batch_size*batch_size,1) \n",
    "#                 res = torch.cat((res, mult),0)\n",
    "#         return res\n"
   ]
  },
  {
   "cell_type": "code",
   "execution_count": 4,
   "metadata": {},
   "outputs": [],
   "source": [
    "def fast_mm2(matrix_1, matrix_2, device =\"cuda:1\"):\n",
    "    \n",
    "    size_1 = matrix_1.size()[0]\n",
    "    size_2 = matrix_1.size()[1]\n",
    "    \n",
    "    matrix_1.to(device)\n",
    "    matrix_1 = matrix_1.unsqueeze(1).repeat(1,size_1,1)\n",
    "        \n",
    "    matrix_2.to(device)\n",
    "    \n",
    "    res = torch.tensor([]).to(device)\n",
    "    \n",
    "    for i in range (size_1):\n",
    "        mult = torch.bmm(matrix_1[i].view(size_1,1,size_2), matrix_2.view(size_1,size_2,1)).to(device)\n",
    "        res = torch.cat((res, mult),0)\n",
    "    return res.mean(1)\n",
    "        \n",
    "    \n",
    "   "
   ]
  },
  {
   "cell_type": "code",
   "execution_count": 5,
   "metadata": {},
   "outputs": [],
   "source": [
    "def vector_idx(i,j, batch_size): #return index in a vector\n",
    "    return i * batch_size + j "
   ]
  },
  {
   "cell_type": "code",
   "execution_count": 6,
   "metadata": {},
   "outputs": [],
   "source": [
    "def matrix_idx(idx,batch_size): #return 2D index in a matrix\n",
    "    j = idx % batch_size \n",
    "    i = idx // batch_size\n",
    "    return i,j "
   ]
  },
  {
   "cell_type": "code",
   "execution_count": 7,
   "metadata": {},
   "outputs": [],
   "source": [
    "def index_by_value(tensor, values):\n",
    "    return torch.nonzero(tensor == values)[0][0].item()"
   ]
  },
  {
   "cell_type": "markdown",
   "metadata": {},
   "source": [
    "### Test #1: matmul"
   ]
  },
  {
   "cell_type": "code",
   "execution_count": null,
   "metadata": {},
   "outputs": [],
   "source": [
    "matrix_1 = torch.rand(5000,100)\n",
    "matrix_2 = torch.rand(5000,100)\n",
    "# matrix_2 = torch.rand(100, 5000*5000)"
   ]
  },
  {
   "cell_type": "code",
   "execution_count": null,
   "metadata": {},
   "outputs": [],
   "source": [
    "device = \"cuda: 1\"\n",
    "matrix_1.to(device)\n",
    "matrix_2.to(device)\n"
   ]
  },
  {
   "cell_type": "code",
   "execution_count": null,
   "metadata": {},
   "outputs": [],
   "source": [
    "start = torch.cuda.Event(enable_timing=True)\n",
    "end = torch.cuda.Event(enable_timing=True)\n",
    "\n",
    "start.record()\n",
    "result_1 = (fast_mm(matrix_1, matrix_2))\n",
    "end.record()\n",
    "print(result_1)\n",
    "print(result_1.size())\n"
   ]
  },
  {
   "cell_type": "markdown",
   "metadata": {},
   "source": [
    "### Test #2: bmm"
   ]
  },
  {
   "cell_type": "code",
   "execution_count": null,
   "metadata": {},
   "outputs": [],
   "source": [
    "torch.cuda.synchronize()\n",
    "print(start.elapsed_time(end))\n",
    "print(result_1.size())"
   ]
  },
  {
   "cell_type": "code",
   "execution_count": null,
   "metadata": {},
   "outputs": [],
   "source": [
    "start.record()\n",
    "result_2 = fast_mm2(matrix_1,matrix_2)\n",
    "end.record()\n",
    "\n",
    "print(result_2)"
   ]
  },
  {
   "cell_type": "code",
   "execution_count": null,
   "metadata": {},
   "outputs": [],
   "source": [
    "torch.cuda.synchronize()\n",
    "print(start.elapsed_time(end))\n",
    "print(result_2.size())"
   ]
  },
  {
   "cell_type": "code",
   "execution_count": null,
   "metadata": {},
   "outputs": [],
   "source": [
    "X = torch.tensor([[2,3],[4,5],[7,8]])\n",
    "Y = X.unsqueeze(1).repeat(1,3,1)\n",
    "#Z = X.unsqueeze(1).repeat(1,1,1)"
   ]
  },
  {
   "cell_type": "code",
   "execution_count": null,
   "metadata": {},
   "outputs": [],
   "source": [
    "for i in range (3):\n",
    "    print(torch.bmm(Y[i].view(3,1,2), X.view(3,2,1)))"
   ]
  },
  {
   "cell_type": "code",
   "execution_count": null,
   "metadata": {},
   "outputs": [],
   "source": [
    "matr = torch.tensor([[2.0,3.0],[4.0,5.0],[7.0,8.0]])\n",
    "print(matr.size())\n",
    "print(fast_mm2(matr,matr).size())\n"
   ]
  },
  {
   "cell_type": "markdown",
   "metadata": {},
   "source": [
    "### Test #3: Compare matmul and bmm for small matrices"
   ]
  },
  {
   "cell_type": "code",
   "execution_count": null,
   "metadata": {},
   "outputs": [],
   "source": [
    "X = torch.tensor([[2.0,3.0],[4.0,5.0],[7.0,8.0]])\n",
    "Y = torch.tensor([[1.0,2.0],[3.0,4.0],[5.0,6.0]])"
   ]
  },
  {
   "cell_type": "code",
   "execution_count": null,
   "metadata": {},
   "outputs": [],
   "source": [
    "res_bmm = fast_mm2(X,Y)\n",
    "print(res_bmm)\n",
    "print(res_bmm.size())"
   ]
  },
  {
   "cell_type": "code",
   "execution_count": null,
   "metadata": {},
   "outputs": [],
   "source": [
    "res_mm = fast_mm(X,Y)\n",
    "print(res_mm)\n",
    "print(res_mm.size())"
   ]
  },
  {
   "cell_type": "code",
   "execution_count": null,
   "metadata": {},
   "outputs": [],
   "source": [
    "print(res_mm[0].item())\n",
    "print(torch.max(res_mm).item())"
   ]
  },
  {
   "cell_type": "code",
   "execution_count": null,
   "metadata": {},
   "outputs": [],
   "source": [
    "index = index_by_value(res_mm,torch.max(res_mm).item())\n",
    "print(index)"
   ]
  },
  {
   "cell_type": "code",
   "execution_count": null,
   "metadata": {},
   "outputs": [],
   "source": [
    "print(matrix_idx(index,3))"
   ]
  },
  {
   "cell_type": "code",
   "execution_count": null,
   "metadata": {},
   "outputs": [],
   "source": [
    "print(vector_idx(2,2,3))"
   ]
  },
  {
   "cell_type": "markdown",
   "metadata": {},
   "source": [
    "### Test #4: correctness"
   ]
  },
  {
   "cell_type": "code",
   "execution_count": 195,
   "metadata": {},
   "outputs": [],
   "source": [
    "torch.set_printoptions(precision=6)\n",
    "matrix_1 = torch.rand(500,100)\n",
    "matrix_2 = torch.rand(500,100)\n",
    "batch_size = 500\n",
    "# matrix_2 = torch.rand(100, 5000*5000)"
   ]
  },
  {
   "cell_type": "code",
   "execution_count": 196,
   "metadata": {},
   "outputs": [
    {
     "data": {
      "text/plain": [
       "tensor([[0.095547, 0.990301, 0.297882,  ..., 0.314450, 0.797820, 0.623467],\n",
       "        [0.749293, 0.164841, 0.275558,  ..., 0.560175, 0.439406, 0.498890],\n",
       "        [0.863934, 0.182325, 0.838508,  ..., 0.683597, 0.973021, 0.810280],\n",
       "        ...,\n",
       "        [0.804357, 0.209407, 0.238640,  ..., 0.766433, 0.238541, 0.050630],\n",
       "        [0.587878, 0.622067, 0.606071,  ..., 0.388363, 0.916828, 0.010745],\n",
       "        [0.524976, 0.311098, 0.915997,  ..., 0.454018, 0.862313, 0.824398]],\n",
       "       device='cuda:1')"
      ]
     },
     "execution_count": 196,
     "metadata": {},
     "output_type": "execute_result"
    }
   ],
   "source": [
    "device = \"cuda: 1\"\n",
    "matrix_1.to(device)\n",
    "matrix_2.to(device)\n"
   ]
  },
  {
   "cell_type": "code",
   "execution_count": 197,
   "metadata": {},
   "outputs": [
    {
     "name": "stdout",
     "output_type": "stream",
     "text": [
      "tensor([[26.703529357910156],\n",
      "        [23.076786041259766],\n",
      "        [26.795158386230469],\n",
      "        ...,\n",
      "        [27.729213714599609],\n",
      "        [34.913894653320312],\n",
      "        [26.807659149169922]], device='cuda:1')\n",
      "torch.Size([250000, 1])\n"
     ]
    }
   ],
   "source": [
    "result_1 = (fast_mm(matrix_1, matrix_2)).to(device)\n",
    "print(result_1.to(device))\n",
    "print(result_1.size())"
   ]
  },
  {
   "cell_type": "code",
   "execution_count": 198,
   "metadata": {},
   "outputs": [
    {
     "name": "stdout",
     "output_type": "stream",
     "text": [
      "239918\n"
     ]
    }
   ],
   "source": [
    "index = index_by_value(result_1,torch.min(result_1).item())\n",
    "print(index)"
   ]
  },
  {
   "cell_type": "code",
   "execution_count": 199,
   "metadata": {},
   "outputs": [
    {
     "name": "stdout",
     "output_type": "stream",
     "text": [
      "(47, 4918)\n"
     ]
    }
   ],
   "source": [
    "print(matrix_idx(index,5000))"
   ]
  },
  {
   "cell_type": "code",
   "execution_count": 200,
   "metadata": {},
   "outputs": [
    {
     "name": "stdout",
     "output_type": "stream",
     "text": [
      "994238\n"
     ]
    }
   ],
   "source": [
    "print(vector_idx(198,4238,5000))"
   ]
  },
  {
   "cell_type": "code",
   "execution_count": 201,
   "metadata": {},
   "outputs": [],
   "source": [
    "# import numpy as np\n",
    "# a = torch.matmul(matrix_1[198],matrix_2[4238]).to(device)\n",
    "# a = a.item()\n",
    "# print(a)\n",
    "# b = result_1[994238].item()\n",
    "# print(b)\n",
    "\n",
    "# if (abs(a-b)<0.000001):\n",
    "#     print(True)"
   ]
  },
  {
   "cell_type": "code",
   "execution_count": 202,
   "metadata": {},
   "outputs": [
    {
     "name": "stdout",
     "output_type": "stream",
     "text": [
      "250000\n"
     ]
    }
   ],
   "source": [
    "count = 0\n",
    "result_1 = (fast_mm(matrix_1, matrix_2)).to(device)\n",
    "for i in range(result_1.size()[0]):\n",
    "    a = matrix_idx(i,batch_size)\n",
    "    i_1 = a[0]\n",
    "    i_2 = a[1]\n",
    "    vect_1 = torch.matmul(matrix_1[i_1],matrix_2[i_2]).to(device)\n",
    "    #print(vect_1.item())\n",
    "    if (abs(result_1[i].item() - vect_1.item())<0.0001):\n",
    "        count = count +1\n",
    "print(count)       "
   ]
  },
  {
   "cell_type": "code",
   "execution_count": 203,
   "metadata": {},
   "outputs": [
    {
     "name": "stdout",
     "output_type": "stream",
     "text": [
      "25.188858032226562\n"
     ]
    }
   ],
   "source": [
    "result_1 = (fast_mm(matrix_1, matrix_2)).to(device)\n",
    "print(result_1[555].item())"
   ]
  },
  {
   "cell_type": "code",
   "execution_count": 204,
   "metadata": {},
   "outputs": [
    {
     "name": "stdout",
     "output_type": "stream",
     "text": [
      "(1, 55)\n"
     ]
    }
   ],
   "source": [
    "print(matrix_idx(555,batch_size))"
   ]
  },
  {
   "cell_type": "code",
   "execution_count": 205,
   "metadata": {},
   "outputs": [
    {
     "name": "stdout",
     "output_type": "stream",
     "text": [
      "25.188854217529297\n"
     ]
    }
   ],
   "source": [
    "print(torch.matmul(matrix_1[1],matrix_2[55]).item())"
   ]
  },
  {
   "cell_type": "code",
   "execution_count": null,
   "metadata": {},
   "outputs": [],
   "source": []
  }
 ],
 "metadata": {
  "kernelspec": {
   "display_name": "Python2 (py2env)",
   "language": "python",
   "name": "hci"
  },
  "language_info": {
   "codemirror_mode": {
    "name": "ipython",
    "version": 3
   },
   "file_extension": ".py",
   "mimetype": "text/x-python",
   "name": "python",
   "nbconvert_exporter": "python",
   "pygments_lexer": "ipython3",
   "version": "3.6.8"
  }
 },
 "nbformat": 4,
 "nbformat_minor": 4
}
